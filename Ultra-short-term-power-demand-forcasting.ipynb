{
 "cells": [
  {
   "cell_type": "code",
   "execution_count": 1,
   "metadata": {},
   "outputs": [],
   "source": [
    "import pandas as pd\n",
    "import numpy as np\n",
    "import seaborn as sns\n",
    "import matplotlib.pyplot as plt\n",
    "\n",
    "import keras\n",
    "import keras.backend as kb\n",
    "import tensorflow\n",
    "from keras.utils.vis_utils import plot_model\n",
    "\n",
    "from sklearn.utils import resample\n",
    "from sklearn.decomposition import PCA\n",
    "from sklearn.metrics import mean_squared_error"
   ]
  },
  {
   "cell_type": "code",
   "execution_count": 2,
   "metadata": {},
   "outputs": [
    {
     "data": {
      "text/html": [
       "<div>\n",
       "<style scoped>\n",
       "    .dataframe tbody tr th:only-of-type {\n",
       "        vertical-align: middle;\n",
       "    }\n",
       "\n",
       "    .dataframe tbody tr th {\n",
       "        vertical-align: top;\n",
       "    }\n",
       "\n",
       "    .dataframe thead th {\n",
       "        text-align: right;\n",
       "    }\n",
       "</style>\n",
       "<table border=\"1\" class=\"dataframe\">\n",
       "  <thead>\n",
       "    <tr style=\"text-align: right;\">\n",
       "      <th></th>\n",
       "      <th>price</th>\n",
       "      <th>demand</th>\n",
       "      <th>sch_gen</th>\n",
       "      <th>semi_sch_gen</th>\n",
       "      <th>import</th>\n",
       "      <th>type</th>\n",
       "    </tr>\n",
       "    <tr>\n",
       "      <th>datetime</th>\n",
       "      <th></th>\n",
       "      <th></th>\n",
       "      <th></th>\n",
       "      <th></th>\n",
       "      <th></th>\n",
       "      <th></th>\n",
       "    </tr>\n",
       "  </thead>\n",
       "  <tbody>\n",
       "    <tr>\n",
       "      <td>2021-08-31 05:45:00</td>\n",
       "      <td>46.20671</td>\n",
       "      <td>7310.94</td>\n",
       "      <td>6236.00057</td>\n",
       "      <td>447.10943</td>\n",
       "      <td>-612.39</td>\n",
       "      <td>ACTUAL</td>\n",
       "    </tr>\n",
       "    <tr>\n",
       "      <td>2021-08-31 05:50:00</td>\n",
       "      <td>61.00000</td>\n",
       "      <td>7462.29</td>\n",
       "      <td>6385.94521</td>\n",
       "      <td>444.06479</td>\n",
       "      <td>-616.45</td>\n",
       "      <td>ACTUAL</td>\n",
       "    </tr>\n",
       "    <tr>\n",
       "      <td>2021-08-31 05:55:00</td>\n",
       "      <td>64.39671</td>\n",
       "      <td>7492.96</td>\n",
       "      <td>6513.65054</td>\n",
       "      <td>444.05946</td>\n",
       "      <td>-522.74</td>\n",
       "      <td>ACTUAL</td>\n",
       "    </tr>\n",
       "    <tr>\n",
       "      <td>2021-08-31 06:00:00</td>\n",
       "      <td>66.03000</td>\n",
       "      <td>7644.78</td>\n",
       "      <td>6601.04363</td>\n",
       "      <td>442.29637</td>\n",
       "      <td>-588.15</td>\n",
       "      <td>ACTUAL</td>\n",
       "    </tr>\n",
       "    <tr>\n",
       "      <td>2021-08-31 06:05:00</td>\n",
       "      <td>55.00015</td>\n",
       "      <td>7703.97</td>\n",
       "      <td>6671.92424</td>\n",
       "      <td>434.85576</td>\n",
       "      <td>-584.02</td>\n",
       "      <td>ACTUAL</td>\n",
       "    </tr>\n",
       "  </tbody>\n",
       "</table>\n",
       "</div>"
      ],
      "text/plain": [
       "                        price   demand     sch_gen  semi_sch_gen  import  \\\n",
       "datetime                                                                   \n",
       "2021-08-31 05:45:00  46.20671  7310.94  6236.00057     447.10943 -612.39   \n",
       "2021-08-31 05:50:00  61.00000  7462.29  6385.94521     444.06479 -616.45   \n",
       "2021-08-31 05:55:00  64.39671  7492.96  6513.65054     444.05946 -522.74   \n",
       "2021-08-31 06:00:00  66.03000  7644.78  6601.04363     442.29637 -588.15   \n",
       "2021-08-31 06:05:00  55.00015  7703.97  6671.92424     434.85576 -584.02   \n",
       "\n",
       "                       type  \n",
       "datetime                     \n",
       "2021-08-31 05:45:00  ACTUAL  \n",
       "2021-08-31 05:50:00  ACTUAL  \n",
       "2021-08-31 05:55:00  ACTUAL  \n",
       "2021-08-31 06:00:00  ACTUAL  \n",
       "2021-08-31 06:05:00  ACTUAL  "
      ]
     },
     "execution_count": 2,
     "metadata": {},
     "output_type": "execute_result"
    }
   ],
   "source": [
    "names = ['datetime', 'price', 'demand', 'sch_gen', 'semi_sch_gen', 'import', 'type']\n",
    "df = pd.read_csv('./AEMO.csv', header=1, names=names, parse_dates=[0], infer_datetime_format=True, index_col=[0])\n",
    "df.head()"
   ]
  },
  {
   "cell_type": "code",
   "execution_count": 3,
   "metadata": {},
   "outputs": [
    {
     "data": {
      "text/plain": [
       "(575, 5)"
      ]
     },
     "execution_count": 3,
     "metadata": {},
     "output_type": "execute_result"
    }
   ],
   "source": [
    "df.drop('type', 1, inplace=True)\n",
    "df.shape"
   ]
  },
  {
   "cell_type": "code",
   "execution_count": 4,
   "metadata": {
    "scrolled": true
   },
   "outputs": [
    {
     "data": {
      "text/plain": [
       "<Figure size 720000x216 with 0 Axes>"
      ]
     },
     "metadata": {},
     "output_type": "display_data"
    },
    {
     "data": {
      "image/png": "[encoded data removed]",
      "text/plain": [
       "<Figure size 432x288 with 1 Axes>"
      ]
     },
     "metadata": {
      "needs_background": "light"
     },
     "output_type": "display_data"
    }
   ],
   "source": [
    "plt.figure(figsize=(10000, 3))\n",
    "df[['demand']].plot()\n",
    "plt.show()"
   ]
  },
  {
   "cell_type": "code",
   "execution_count": 5,
   "metadata": {},
   "outputs": [
    {
     "data": {
      "text/plain": [
       "<matplotlib.axes._subplots.AxesSubplot at 0x18579c29808>"
      ]
     },
     "execution_count": 5,
     "metadata": {},
     "output_type": "execute_result"
    },
    {
     "data": {
      "image/png": "[encoded data removed]",
      "text/plain": [
       "<Figure size 864x576 with 2 Axes>"
      ]
     },
     "metadata": {
      "needs_background": "light"
     },
     "output_type": "display_data"
    }
   ],
   "source": [
    "plt.figure(figsize=(12,8))\n",
    "sns.heatmap(df.corr(),annot=True, linewidth=0.5)"
   ]
  },
  {
   "cell_type": "code",
   "execution_count": 6,
   "metadata": {},
   "outputs": [],
   "source": [
    "def loss_function(y_actual, y_predicted):\n",
    "    e = 0.5\n",
    "    loss_value = e*kb.mean(kb.square(y_actual - y_predicted)) + (1-e)*kb.max(kb.square(y_actual - y_predicted))\n",
    "    return loss_value"
   ]
  },
  {
   "cell_type": "code",
   "execution_count": 7,
   "metadata": {},
   "outputs": [],
   "source": [
    "def LSTM_model(input_timestep, num_columns, units_first, drop_rate1, units_second, drop_rate2, output_timestep):\n",
    "    model = keras.models.Sequential()\n",
    "\n",
    "    model.add(keras.layers.LSTM(units_first, return_sequences=True))\n",
    "    model.add(keras.layers.Dropout(drop_rate1))\n",
    "    model.add(keras.layers.LSTM(units_second))\n",
    "    model.add(keras.layers.Dropout(drop_rate2))\n",
    "    model.add(keras.layers.Dense(output_timestep))\n",
    "    \n",
    "    optimizer = tensorflow.keras.optimizers.RMSprop()\n",
    "    model.compile(loss=loss_function, optimizer=optimizer)\n",
    "    \n",
    "    return model"
   ]
  },
  {
   "cell_type": "code",
   "execution_count": 8,
   "metadata": {
    "scrolled": true
   },
   "outputs": [
    {
     "name": "stdout",
     "output_type": "stream",
     "text": [
      "Model: \"sequential\"\n",
      "_________________________________________________________________\n",
      "Layer (type)                 Output Shape              Param #   \n",
      "=================================================================\n",
      "lstm (LSTM)                  (None, 460, 50)           11200     \n",
      "_________________________________________________________________\n",
      "dropout (Dropout)            (None, 460, 50)           0         \n",
      "_________________________________________________________________\n",
      "lstm_1 (LSTM)                (None, 100)               60400     \n",
      "_________________________________________________________________\n",
      "dropout_1 (Dropout)          (None, 100)               0         \n",
      "_________________________________________________________________\n",
      "dense (Dense)                (None, 1)                 101       \n",
      "=================================================================\n",
      "Total params: 71,701\n",
      "Trainable params: 71,701\n",
      "Non-trainable params: 0\n",
      "_________________________________________________________________\n"
     ]
    }
   ],
   "source": [
    "example = LSTM_model(50, 2, 50, 0.2, 100, 0.3, 1)\n",
    "example.build(input_shape=(None,460, 5))\n",
    "example.summary()"
   ]
  },
  {
   "cell_type": "code",
   "execution_count": 9,
   "metadata": {},
   "outputs": [
    {
     "data": {
      "image/png": "[encoded data removed]",
      "text/plain": [
       "<IPython.core.display.Image object>"
      ]
     },
     "execution_count": 9,
     "metadata": {},
     "output_type": "execute_result"
    }
   ],
   "source": [
    "plot_model(example, to_file='model_plot.png', show_shapes=True, show_layer_names=True)"
   ]
  },
  {
   "cell_type": "code",
   "execution_count": 10,
   "metadata": {},
   "outputs": [],
   "source": [
    "def normalize(x):\n",
    "    return (x - train_stats['min']) / (train_stats['max'] - train_stats['min'])"
   ]
  },
  {
   "cell_type": "code",
   "execution_count": 11,
   "metadata": {},
   "outputs": [
    {
     "name": "stdout",
     "output_type": "stream",
     "text": [
      "(460, 5)\n"
     ]
    }
   ],
   "source": [
    "train_dataset = df.sample(frac=0.8,random_state=0)\n",
    "print(train_dataset.shape)\n",
    "test_dataset = df.drop(train_dataset.index)\n",
    "\n",
    "train_stats = train_dataset.describe()\n",
    "train_stats.pop(\"demand\")\n",
    "train_stats = train_stats.transpose()\n",
    "\n",
    "target = train_dataset['demand'].values\n",
    "test_target = test_dataset['demand'].values\n",
    "\n",
    "normed_train_data = normalize(train_dataset.drop('demand', axis=1))\n",
    "normed_test_data = normalize(test_dataset.drop('demand', axis=1))\n",
    "\n",
    "pca = PCA(.95)\n",
    "pca.fit(normed_train_data)\n",
    "\n",
    "pca_train = pca.transform(normed_train_data)\n",
    "pca_test = pca.transform(normed_test_data)\n",
    "\n",
    "X_train = pd.DataFrame(pca_train)\n",
    "X_test = pd.DataFrame(pca_test)"
   ]
  },
  {
   "cell_type": "code",
   "execution_count": 12,
   "metadata": {},
   "outputs": [],
   "source": [
    "def BRSB_ensemble_train(training_data, lstm_base_learner, num_bagging, num_random, num_columns):\n",
    "    T1 = num_bagging\n",
    "    T2 = num_random\n",
    "    \n",
    "    bagging_members = []\n",
    "    boosting_resample = []\n",
    "    \n",
    "    for t1 in range(T1):\n",
    "        bootstrap_sample = resample(training_data, replace=True, n_samples=4, random_state=1)\n",
    "        random_subspace_members = []\n",
    "        \n",
    "        for t2 in range(T2):\n",
    "            random_subspace = bootstrap_sample.sample(n=num_columns,axis='columns')\n",
    "            rs_feature_subspace = random_subspace.columns\n",
    "            random_subspace = np.expand_dims(random_subspace, axis=2)\n",
    "            test_dataset = X_test[rs_feature_subspace]\n",
    "            \n",
    "            model = LSTM_model(5, num_columns, 50, 0.2, 10, 0.3, 1)\n",
    "            model.build(input_shape=random_subspace.shape)\n",
    "            model.fit(random_subspace, target, epochs=10, validation_split = 0.2, verbose=1, batch_size=100)\n",
    "            \n",
    "            random_subspace_members.append((model, rs_feature_subspace))\n",
    "            \n",
    "        bagging_members.append(random_subspace_members)\n",
    "    return bagging_members"
   ]
  },
  {
   "cell_type": "code",
   "execution_count": 13,
   "metadata": {
    "scrolled": true
   },
   "outputs": [
    {
     "name": "stdout",
     "output_type": "stream",
     "text": [
      "Epoch 1/10\n",
      "1/1 [==============================] - 5s 5s/step - loss: 56853972.0000 - val_loss: 65416896.0000\n",
      "Epoch 2/10\n",
      "1/1 [==============================] - 0s 37ms/step - loss: 56853888.0000 - val_loss: 65416832.0000\n",
      "Epoch 3/10\n",
      "1/1 [==============================] - 0s 35ms/step - loss: 56853824.0000 - val_loss: 65416772.0000\n",
      "Epoch 4/10\n",
      "1/1 [==============================] - 0s 48ms/step - loss: 56853760.0000 - val_loss: 65416708.0000\n",
      "Epoch 5/10\n",
      "1/1 [==============================] - 0s 50ms/step - loss: 56853664.0000 - val_loss: 65416644.0000\n",
      "Epoch 6/10\n",
      "1/1 [==============================] - 0s 52ms/step - loss: 56853680.0000 - val_loss: 65416596.0000\n",
      "Epoch 7/10\n",
      "1/1 [==============================] - 0s 47ms/step - loss: 56853580.0000 - val_loss: 65416540.0000\n",
      "Epoch 8/10\n",
      "1/1 [==============================] - 0s 48ms/step - loss: 56853524.0000 - val_loss: 65416496.0000\n",
      "Epoch 9/10\n",
      "1/1 [==============================] - 0s 51ms/step - loss: 56853524.0000 - val_loss: 65416448.0000\n",
      "Epoch 10/10\n",
      "1/1 [==============================] - 0s 38ms/step - loss: 56853488.0000 - val_loss: 65416400.0000\n",
      "Epoch 1/10\n",
      "1/1 [==============================] - 6s 6s/step - loss: 56853980.0000 - val_loss: 65416796.0000\n",
      "Epoch 2/10\n",
      "1/1 [==============================] - 0s 45ms/step - loss: 56853856.0000 - val_loss: 65416708.0000\n",
      "Epoch 3/10\n",
      "1/1 [==============================] - 0s 47ms/step - loss: 56853780.0000 - val_loss: 65416644.0000\n",
      "Epoch 4/10\n",
      "1/1 [==============================] - 0s 45ms/step - loss: 56853724.0000 - val_loss: 65416572.0000\n",
      "Epoch 5/10\n",
      "1/1 [==============================] - 0s 46ms/step - loss: 56853648.0000 - val_loss: 65416512.0000\n",
      "Epoch 6/10\n",
      "1/1 [==============================] - 0s 48ms/step - loss: 56853612.0000 - val_loss: 65416448.0000\n",
      "Epoch 7/10\n",
      "1/1 [==============================] - 0s 49ms/step - loss: 56853588.0000 - val_loss: 65416392.0000\n",
      "Epoch 8/10\n",
      "1/1 [==============================] - 0s 47ms/step - loss: 56853508.0000 - val_loss: 65416336.0000\n",
      "Epoch 9/10\n",
      "1/1 [==============================] - 0s 45ms/step - loss: 56853420.0000 - val_loss: 65416272.0000\n",
      "Epoch 10/10\n",
      "1/1 [==============================] - 0s 46ms/step - loss: 56853460.0000 - val_loss: 65416216.0000\n",
      "Epoch 1/10\n",
      "1/1 [==============================] - 8s 8s/step - loss: 56853964.0000 - val_loss: 65416928.0000\n",
      "Epoch 2/10\n",
      "1/1 [==============================] - 0s 38ms/step - loss: 56853872.0000 - val_loss: 65416848.0000\n",
      "Epoch 3/10\n",
      "1/1 [==============================] - 0s 38ms/step - loss: 56853804.0000 - val_loss: 65416788.0000\n",
      "Epoch 4/10\n",
      "1/1 [==============================] - 0s 41ms/step - loss: 56853716.0000 - val_loss: 65416732.0000\n",
      "Epoch 5/10\n",
      "1/1 [==============================] - 0s 40ms/step - loss: 56853716.0000 - val_loss: 65416684.0000\n",
      "Epoch 6/10\n",
      "1/1 [==============================] - 0s 54ms/step - loss: 56853616.0000 - val_loss: 65416628.0000\n",
      "Epoch 7/10\n",
      "1/1 [==============================] - 0s 43ms/step - loss: 56853584.0000 - val_loss: 65416572.0000\n",
      "Epoch 8/10\n",
      "1/1 [==============================] - 0s 47ms/step - loss: 56853492.0000 - val_loss: 65416524.0000\n",
      "Epoch 9/10\n",
      "1/1 [==============================] - 0s 75ms/step - loss: 56853504.0000 - val_loss: 65416480.0000\n",
      "Epoch 10/10\n",
      "1/1 [==============================] - 0s 49ms/step - loss: 56853428.0000 - val_loss: 65416424.0000\n",
      "Epoch 1/10\n",
      "1/1 [==============================] - 6s 6s/step - loss: 56853968.0000 - val_loss: 65416920.0000\n",
      "Epoch 2/10\n",
      "1/1 [==============================] - 0s 44ms/step - loss: 56853856.0000 - val_loss: 65416840.0000\n",
      "Epoch 3/10\n",
      "1/1 [==============================] - 0s 45ms/step - loss: 56853772.0000 - val_loss: 65416764.0000\n",
      "Epoch 4/10\n",
      "1/1 [==============================] - 0s 44ms/step - loss: 56853728.0000 - val_loss: 65416700.0000\n",
      "Epoch 5/10\n",
      "1/1 [==============================] - 0s 43ms/step - loss: 56853680.0000 - val_loss: 65416644.0000\n",
      "Epoch 6/10\n",
      "1/1 [==============================] - 0s 43ms/step - loss: 56853580.0000 - val_loss: 65416580.0000\n",
      "Epoch 7/10\n",
      "1/1 [==============================] - 0s 47ms/step - loss: 56853472.0000 - val_loss: 65416520.0000\n",
      "Epoch 8/10\n",
      "1/1 [==============================] - 0s 35ms/step - loss: 56853492.0000 - val_loss: 65416464.0000\n",
      "Epoch 9/10\n",
      "1/1 [==============================] - 0s 39ms/step - loss: 56853508.0000 - val_loss: 65416416.0000\n",
      "Epoch 10/10\n",
      "1/1 [==============================] - 0s 39ms/step - loss: 56853280.0000 - val_loss: 65416352.0000\n",
      "Epoch 1/10\n",
      "1/1 [==============================] - 5s 5s/step - loss: 56853972.0000 - val_loss: 65416960.0000\n",
      "Epoch 2/10\n",
      "1/1 [==============================] - 0s 65ms/step - loss: 56853876.0000 - val_loss: 65416880.0000\n",
      "Epoch 3/10\n",
      "1/1 [==============================] - 0s 65ms/step - loss: 56853820.0000 - val_loss: 65416812.0000\n",
      "Epoch 4/10\n",
      "1/1 [==============================] - 0s 48ms/step - loss: 56853748.0000 - val_loss: 65416748.0000\n",
      "Epoch 5/10\n",
      "1/1 [==============================] - 0s 44ms/step - loss: 56853700.0000 - val_loss: 65416684.0000\n",
      "Epoch 6/10\n",
      "1/1 [==============================] - 0s 36ms/step - loss: 56853644.0000 - val_loss: 65416628.0000\n",
      "Epoch 7/10\n",
      "1/1 [==============================] - 0s 31ms/step - loss: 56853584.0000 - val_loss: 65416572.0000\n",
      "Epoch 8/10\n",
      "1/1 [==============================] - 0s 33ms/step - loss: 56853460.0000 - val_loss: 65416520.0000\n",
      "Epoch 9/10\n",
      "1/1 [==============================] - 0s 35ms/step - loss: 56853420.0000 - val_loss: 65416456.0000\n",
      "Epoch 10/10\n",
      "1/1 [==============================] - 0s 34ms/step - loss: 56853396.0000 - val_loss: 65416408.0000\n",
      "Epoch 1/10\n",
      "1/1 [==============================] - 6s 6s/step - loss: 56853984.0000 - val_loss: 65416920.0000\n",
      "Epoch 2/10\n",
      "1/1 [==============================] - 0s 38ms/step - loss: 56853876.0000 - val_loss: 65416832.0000\n",
      "Epoch 3/10\n",
      "1/1 [==============================] - 0s 36ms/step - loss: 56853792.0000 - val_loss: 65416764.0000\n",
      "Epoch 4/10\n",
      "1/1 [==============================] - 0s 39ms/step - loss: 56853760.0000 - val_loss: 65416700.0000\n",
      "Epoch 5/10\n",
      "1/1 [==============================] - 0s 40ms/step - loss: 56853632.0000 - val_loss: 65416628.0000\n",
      "Epoch 6/10\n",
      "1/1 [==============================] - 0s 37ms/step - loss: 56853632.0000 - val_loss: 65416580.0000\n",
      "Epoch 7/10\n",
      "1/1 [==============================] - 0s 28ms/step - loss: 56853584.0000 - val_loss: 65416524.0000\n",
      "Epoch 8/10\n",
      "1/1 [==============================] - 0s 33ms/step - loss: 56853428.0000 - val_loss: 65416456.0000\n",
      "Epoch 9/10\n",
      "1/1 [==============================] - 0s 36ms/step - loss: 56853440.0000 - val_loss: 65416400.0000\n",
      "Epoch 10/10\n",
      "1/1 [==============================] - 0s 42ms/step - loss: 56853424.0000 - val_loss: 65416352.0000\n",
      "Epoch 1/10\n",
      "1/1 [==============================] - 5s 5s/step - loss: 56853964.0000 - val_loss: 65416912.0000\n",
      "Epoch 2/10\n",
      "1/1 [==============================] - 0s 42ms/step - loss: 56853840.0000 - val_loss: 65416820.0000\n",
      "Epoch 3/10\n",
      "1/1 [==============================] - 0s 42ms/step - loss: 56853804.0000 - val_loss: 65416756.0000\n",
      "Epoch 4/10\n",
      "1/1 [==============================] - 0s 48ms/step - loss: 56853660.0000 - val_loss: 65416676.0000\n",
      "Epoch 5/10\n",
      "1/1 [==============================] - 0s 42ms/step - loss: 56853652.0000 - val_loss: 65416620.0000\n",
      "Epoch 6/10\n",
      "1/1 [==============================] - 0s 42ms/step - loss: 56853548.0000 - val_loss: 65416556.0000\n",
      "Epoch 7/10\n",
      "1/1 [==============================] - 0s 29ms/step - loss: 56853460.0000 - val_loss: 65416496.0000\n",
      "Epoch 8/10\n",
      "1/1 [==============================] - 0s 29ms/step - loss: 56853536.0000 - val_loss: 65416440.0000\n",
      "Epoch 9/10\n",
      "1/1 [==============================] - 0s 35ms/step - loss: 56853392.0000 - val_loss: 65416384.0000\n",
      "Epoch 10/10\n",
      "1/1 [==============================] - 0s 34ms/step - loss: 56853460.0000 - val_loss: 65416336.0000\n",
      "Epoch 1/10\n",
      "1/1 [==============================] - 6s 6s/step - loss: 56853984.0000 - val_loss: 65416944.0000\n",
      "Epoch 2/10\n",
      "1/1 [==============================] - 0s 36ms/step - loss: 56853904.0000 - val_loss: 65416880.0000\n",
      "Epoch 3/10\n",
      "1/1 [==============================] - 0s 35ms/step - loss: 56853856.0000 - val_loss: 65416832.0000\n",
      "Epoch 4/10\n",
      "1/1 [==============================] - 0s 33ms/step - loss: 56853776.0000 - val_loss: 65416780.0000\n"
     ]
    },
    {
     "name": "stdout",
     "output_type": "stream",
     "text": [
      "Epoch 5/10\n",
      "1/1 [==============================] - 0s 44ms/step - loss: 56853748.0000 - val_loss: 65416732.0000\n",
      "Epoch 6/10\n",
      "1/1 [==============================] - 0s 59ms/step - loss: 56853680.0000 - val_loss: 65416684.0000\n",
      "Epoch 7/10\n",
      "1/1 [==============================] - 0s 43ms/step - loss: 56853700.0000 - val_loss: 65416644.0000\n",
      "Epoch 8/10\n",
      "1/1 [==============================] - 0s 40ms/step - loss: 56853616.0000 - val_loss: 65416596.0000\n",
      "Epoch 9/10\n",
      "1/1 [==============================] - 0s 41ms/step - loss: 56853552.0000 - val_loss: 65416548.0000\n",
      "Epoch 10/10\n",
      "1/1 [==============================] - 0s 39ms/step - loss: 56853508.0000 - val_loss: 65416512.0000\n",
      "Epoch 1/10\n",
      "1/1 [==============================] - 6s 6s/step - loss: 56853968.0000 - val_loss: 65416920.0000\n",
      "Epoch 2/10\n",
      "1/1 [==============================] - 0s 40ms/step - loss: 56853868.0000 - val_loss: 65416840.0000\n",
      "Epoch 3/10\n",
      "1/1 [==============================] - 0s 35ms/step - loss: 56853772.0000 - val_loss: 65416772.0000\n",
      "Epoch 4/10\n",
      "1/1 [==============================] - 0s 33ms/step - loss: 56853712.0000 - val_loss: 65416708.0000\n",
      "Epoch 5/10\n",
      "1/1 [==============================] - 0s 35ms/step - loss: 56853644.0000 - val_loss: 65416644.0000\n",
      "Epoch 6/10\n",
      "1/1 [==============================] - 0s 39ms/step - loss: 56853588.0000 - val_loss: 65416580.0000\n",
      "Epoch 7/10\n",
      "1/1 [==============================] - 0s 37ms/step - loss: 56853620.0000 - val_loss: 65416540.0000\n",
      "Epoch 8/10\n",
      "1/1 [==============================] - 0s 40ms/step - loss: 56853444.0000 - val_loss: 65416480.0000\n",
      "Epoch 9/10\n",
      "1/1 [==============================] - 0s 42ms/step - loss: 56853392.0000 - val_loss: 65416424.0000\n",
      "Epoch 10/10\n",
      "1/1 [==============================] - 0s 39ms/step - loss: 56853396.0000 - val_loss: 65416368.0000\n"
     ]
    }
   ],
   "source": [
    "model_network = BRSB_ensemble_train(X_train, LSTM_model, 3, 3, 1)"
   ]
  },
  {
   "cell_type": "code",
   "execution_count": 14,
   "metadata": {},
   "outputs": [],
   "source": [
    "def BRSB_ensemble_test(testing_data, test_labels, model_network):\n",
    "    pruned_outputs = []\n",
    "    for network in model_network:\n",
    "        yhats = []\n",
    "        for model in network:\n",
    "            test_dataset = testing_data[model[1]]\n",
    "            test_dataset = np.expand_dims(test_dataset, axis=2)\n",
    "            predict = model[0].predict(test_dataset)\n",
    "            yhats.append((predict, mean_squared_error(test_labels, predict)))\n",
    "        pruned = [(a, b) for a, b in yhats if b >= 0.8]\n",
    "        averaged = [sum(elem) / len(pruned) for elem in zip(*pruned)]\n",
    "        pruned_outputs.append(averaged)\n",
    "    weighted_avg = np.average( pruned_outputs[0], weights = pruned_outputs[1])"
   ]
  },
  {
   "cell_type": "code",
   "execution_count": 15,
   "metadata": {},
   "outputs": [
    {
     "name": "stderr",
     "output_type": "stream",
     "text": [
      "C:\\Users\\Snehal Swadhin\\Anaconda3\\lib\\site-packages\\numpy\\core\\_asarray.py:136: VisibleDeprecationWarning: Creating an ndarray from ragged nested sequences (which is a list-or-tuple of lists-or-tuples-or ndarrays with different lengths or shapes) is deprecated. If you meant to do this, you must specify 'dtype=object' when creating the ndarray\n",
      "  return array(a, dtype, copy=False, order=order, subok=True)\n"
     ]
    }
   ],
   "source": [
    "BRSB_ensemble_test(X_test, test_target, model_network)"
   ]
  },
  {
   "cell_type": "code",
   "execution_count": null,
   "metadata": {},
   "outputs": [],
   "source": []
  }
 ],
 "metadata": {
  "kernelspec": {
   "display_name": "Python 3",
   "language": "python",
   "name": "python3"
  },
  "language_info": {
   "codemirror_mode": {
    "name": "ipython",
    "version": 3
   },
   "file_extension": ".py",
   "mimetype": "text/x-python",
   "name": "python",
   "nbconvert_exporter": "python",
   "pygments_lexer": "ipython3",
   "version": "3.7.4"
  }
 },
 "nbformat": 4,
 "nbformat_minor": 2
}
